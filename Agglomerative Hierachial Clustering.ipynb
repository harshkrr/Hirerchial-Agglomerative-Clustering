{
 "cells": [
  {
   "cell_type": "markdown",
   "metadata": {},
   "source": [
    "# Agglomerative Hierarchial Clustering"
   ]
  },
  {
   "cell_type": "markdown",
   "metadata": {},
   "source": [
    "Hierarchical Clustering is an algorithm that groups similar objects into groups called clusters. The endpoint is a set of clusters, where each cluster is distinct from each other cluster, and the objects within each cluster are broadly similar to each other."
   ]
  },
  {
   "cell_type": "markdown",
   "metadata": {},
   "source": [
    "Agglomerative Hierachial Clustering: It follows bottom-up appraoch. Each observation starts its own cluster and pairs of cluster are merged as one moves up the hierarchy"
   ]
  },
  {
   "cell_type": "markdown",
   "metadata": {},
   "source": [
    "For merging of different clusters, I am using single linkage i.e., minimizing distance between closet clusters of pair of clusters"
   ]
  },
  {
   "cell_type": "code",
   "execution_count": 1,
   "metadata": {},
   "outputs": [],
   "source": [
    "import numpy as np\n",
    "import matplotlib.pyplot as plt\n",
    "import pandas as pd\n",
    "%matplotlib inline"
   ]
  },
  {
   "cell_type": "code",
   "execution_count": 8,
   "metadata": {},
   "outputs": [
    {
     "data": {
      "text/html": [
       "<div>\n",
       "<style scoped>\n",
       "    .dataframe tbody tr th:only-of-type {\n",
       "        vertical-align: middle;\n",
       "    }\n",
       "\n",
       "    .dataframe tbody tr th {\n",
       "        vertical-align: top;\n",
       "    }\n",
       "\n",
       "    .dataframe thead th {\n",
       "        text-align: right;\n",
       "    }\n",
       "</style>\n",
       "<table border=\"1\" class=\"dataframe\">\n",
       "  <thead>\n",
       "    <tr style=\"text-align: right;\">\n",
       "      <th></th>\n",
       "      <th>Channel</th>\n",
       "      <th>Region</th>\n",
       "      <th>Fresh</th>\n",
       "      <th>Milk</th>\n",
       "      <th>Grocery</th>\n",
       "      <th>Frozen</th>\n",
       "      <th>Detergents_Paper</th>\n",
       "      <th>Delicassen</th>\n",
       "    </tr>\n",
       "  </thead>\n",
       "  <tbody>\n",
       "    <tr>\n",
       "      <td>0</td>\n",
       "      <td>2</td>\n",
       "      <td>3</td>\n",
       "      <td>12669</td>\n",
       "      <td>9656</td>\n",
       "      <td>7561</td>\n",
       "      <td>214</td>\n",
       "      <td>2674</td>\n",
       "      <td>1338</td>\n",
       "    </tr>\n",
       "    <tr>\n",
       "      <td>1</td>\n",
       "      <td>2</td>\n",
       "      <td>3</td>\n",
       "      <td>7057</td>\n",
       "      <td>9810</td>\n",
       "      <td>9568</td>\n",
       "      <td>1762</td>\n",
       "      <td>3293</td>\n",
       "      <td>1776</td>\n",
       "    </tr>\n",
       "    <tr>\n",
       "      <td>2</td>\n",
       "      <td>2</td>\n",
       "      <td>3</td>\n",
       "      <td>6353</td>\n",
       "      <td>8808</td>\n",
       "      <td>7684</td>\n",
       "      <td>2405</td>\n",
       "      <td>3516</td>\n",
       "      <td>7844</td>\n",
       "    </tr>\n",
       "    <tr>\n",
       "      <td>3</td>\n",
       "      <td>1</td>\n",
       "      <td>3</td>\n",
       "      <td>13265</td>\n",
       "      <td>1196</td>\n",
       "      <td>4221</td>\n",
       "      <td>6404</td>\n",
       "      <td>507</td>\n",
       "      <td>1788</td>\n",
       "    </tr>\n",
       "    <tr>\n",
       "      <td>4</td>\n",
       "      <td>2</td>\n",
       "      <td>3</td>\n",
       "      <td>22615</td>\n",
       "      <td>5410</td>\n",
       "      <td>7198</td>\n",
       "      <td>3915</td>\n",
       "      <td>1777</td>\n",
       "      <td>5185</td>\n",
       "    </tr>\n",
       "    <tr>\n",
       "      <td>5</td>\n",
       "      <td>2</td>\n",
       "      <td>3</td>\n",
       "      <td>9413</td>\n",
       "      <td>8259</td>\n",
       "      <td>5126</td>\n",
       "      <td>666</td>\n",
       "      <td>1795</td>\n",
       "      <td>1451</td>\n",
       "    </tr>\n",
       "    <tr>\n",
       "      <td>6</td>\n",
       "      <td>2</td>\n",
       "      <td>3</td>\n",
       "      <td>12126</td>\n",
       "      <td>3199</td>\n",
       "      <td>6975</td>\n",
       "      <td>480</td>\n",
       "      <td>3140</td>\n",
       "      <td>545</td>\n",
       "    </tr>\n",
       "    <tr>\n",
       "      <td>7</td>\n",
       "      <td>2</td>\n",
       "      <td>3</td>\n",
       "      <td>7579</td>\n",
       "      <td>4956</td>\n",
       "      <td>9426</td>\n",
       "      <td>1669</td>\n",
       "      <td>3321</td>\n",
       "      <td>2566</td>\n",
       "    </tr>\n",
       "    <tr>\n",
       "      <td>8</td>\n",
       "      <td>1</td>\n",
       "      <td>3</td>\n",
       "      <td>5963</td>\n",
       "      <td>3648</td>\n",
       "      <td>6192</td>\n",
       "      <td>425</td>\n",
       "      <td>1716</td>\n",
       "      <td>750</td>\n",
       "    </tr>\n",
       "    <tr>\n",
       "      <td>9</td>\n",
       "      <td>2</td>\n",
       "      <td>3</td>\n",
       "      <td>6006</td>\n",
       "      <td>11093</td>\n",
       "      <td>18881</td>\n",
       "      <td>1159</td>\n",
       "      <td>7425</td>\n",
       "      <td>2098</td>\n",
       "    </tr>\n",
       "  </tbody>\n",
       "</table>\n",
       "</div>"
      ],
      "text/plain": [
       "   Channel  Region  Fresh   Milk  Grocery  Frozen  Detergents_Paper  \\\n",
       "0        2       3  12669   9656     7561     214              2674   \n",
       "1        2       3   7057   9810     9568    1762              3293   \n",
       "2        2       3   6353   8808     7684    2405              3516   \n",
       "3        1       3  13265   1196     4221    6404               507   \n",
       "4        2       3  22615   5410     7198    3915              1777   \n",
       "5        2       3   9413   8259     5126     666              1795   \n",
       "6        2       3  12126   3199     6975     480              3140   \n",
       "7        2       3   7579   4956     9426    1669              3321   \n",
       "8        1       3   5963   3648     6192     425              1716   \n",
       "9        2       3   6006  11093    18881    1159              7425   \n",
       "\n",
       "   Delicassen  \n",
       "0        1338  \n",
       "1        1776  \n",
       "2        7844  \n",
       "3        1788  \n",
       "4        5185  \n",
       "5        1451  \n",
       "6         545  \n",
       "7        2566  \n",
       "8         750  \n",
       "9        2098  "
      ]
     },
     "execution_count": 8,
     "metadata": {},
     "output_type": "execute_result"
    }
   ],
   "source": [
    "data = pd.read_csv('Wholesale_customers_data.csv', nrows = 10)\n",
    "data"
   ]
  },
  {
   "cell_type": "code",
   "execution_count": 3,
   "metadata": {},
   "outputs": [],
   "source": [
    "from sklearn.preprocessing import normalize\n",
    "data_scaled = normalize(data)\n",
    "data_scaled = pd.DataFrame(data_scaled, columns=data.columns)\n",
    "# data_scaled"
   ]
  },
  {
   "cell_type": "code",
   "execution_count": 14,
   "metadata": {},
   "outputs": [
    {
     "data": {
      "text/plain": [
       "(9, 8)"
      ]
     },
     "execution_count": 14,
     "metadata": {},
     "output_type": "execute_result"
    }
   ],
   "source": [
    "data = np.array(data_scaled[1:], dtype=np.float)\n",
    "data.shape"
   ]
  },
  {
   "cell_type": "code",
   "execution_count": 15,
   "metadata": {},
   "outputs": [],
   "source": [
    "# # sample data\n",
    "# X = np.array([[0.40,0.53],\n",
    "#               [0.22,0.32],\n",
    "#               [0.35,0.32],\n",
    "#               [0.26,0.19],\n",
    "#               [0.08,0.41],\n",
    "#               [0.35,0.30],\n",
    "#               [0.80,0.98],\n",
    "#               [0.28,0.33]\n",
    "# ])"
   ]
  },
  {
   "cell_type": "code",
   "execution_count": 21,
   "metadata": {},
   "outputs": [
    {
     "data": {
      "text/plain": [
       "(9, 8)"
      ]
     },
     "execution_count": 21,
     "metadata": {},
     "output_type": "execute_result"
    }
   ],
   "source": [
    "X = data\n",
    "X.shape"
   ]
  },
  {
   "cell_type": "code",
   "execution_count": 17,
   "metadata": {},
   "outputs": [],
   "source": [
    "# This class makes the distance matrix between the samples elements\n",
    "class Distance_Matrix(object):\n",
    "    def __init__(self):\n",
    "        pass\n",
    "    \n",
    "    def compute_distance_matrix(self, data):\n",
    "        # Creates a matrix of distances between individual samples and clusters attained at a particular step\n",
    "        dist_matrix = np.zeros((len(data),len(data)))\n",
    "        for i in range(dist_matrix.shape[0]):\n",
    "            for j in range(dist_matrix.shape[0]):\n",
    "                if i!=j:\n",
    "                    dist_matrix[i,j] = float(self.distance_between_two(data[i],data[j]))\n",
    "                else:\n",
    "                    dist_matrix[i,j] = 5**5\n",
    "        return dist_matrix\n",
    "    \n",
    "    def distance_between_two(self,sample1,sample2):\n",
    "        # this method is used to calculate the distance between two samples that can be cluster or individual element of sample\n",
    "        # if both are samples then, calculate the distance between them using norm, otherwise it will calculate distance using\n",
    "        # the next method\n",
    "        distance = []\n",
    "        for i in range(len(sample1)):\n",
    "            for j in range(len(sample2)):\n",
    "                try:\n",
    "                    distance.append(np.linalg.norm(np.array(sample1[i])-np.array(sample2[j])))\n",
    "                except:\n",
    "                    distance.append(self.inter_sample_distance(sample1[i],sample2[j]))\n",
    "        return min(distance)\n",
    "    \n",
    "    def inter_sample_distance(self,s1,s2):\n",
    "        # this method calculates distance between one sample and one cluster. It takes help of the inter_cluster_distance\n",
    "        if str(type(s2[0]))!='<class \\'list\\'>':\n",
    "            s2=[s2]\n",
    "        if str(type(s1[0]))!='<class \\'list\\'>':\n",
    "            s1=[s1]\n",
    "            \n",
    "        m = len(s1)\n",
    "        n = len(s2)\n",
    "        distance = []\n",
    "        if n>=m:\n",
    "            for i in range(n):\n",
    "                for j in range(m):\n",
    "                    if (len(s2[i])>=len(s1[j])) and str(type(s2[i][0])!='<class \\'list\\'>'):\n",
    "                        distance.append(self.inter_cluster_distance(s2[i],s1[j]))\n",
    "                    else:\n",
    "                        distance.append(np.linalg.norm(np.array(s2[i])-np.array(s1[j])))\n",
    "        else:\n",
    "            for i in range(m):\n",
    "                for j in range(n):\n",
    "                    if (len(s1[i])>=len(s2[j])) and str(type(s1[i][0])!='<class \\'list\\'>'):\n",
    "                        distance.append(self.inter_cluster_distance(s1[i],s2[j]))\n",
    "                    else:\n",
    "                        distance.append(np.linalg.norm(np.array(s1[i])-np.array(s2[j])))\n",
    "        return min(distance)\n",
    "    \n",
    "    def inter_cluster_distance(self,cl,sample):\n",
    "        # this method calculates distance between a sample and a cluster\n",
    "        if sample[0]!='<class \\'list\\'>':\n",
    "            sample = [sample]\n",
    "        dist   = []\n",
    "        for i in range(len(cl)):\n",
    "            for j in range(len(sample)):\n",
    "                dist.append(np.linalg.norm(np.array(cl[i])-np.array(sample[j])))\n",
    "        return min(dist)"
   ]
  },
  {
   "cell_type": "code",
   "execution_count": 18,
   "metadata": {},
   "outputs": [],
   "source": [
    "# k is the number of cluters we want to divide the dataset\n",
    "k = 2\n",
    "# final_clusters will conatin out list of clusters\n",
    "final_clusters = []"
   ]
  },
  {
   "cell_type": "markdown",
   "metadata": {},
   "source": [
    "Now implementing the clustering method and we keep printing the clusters formed after each iteration. I am using single linkage for the implementation of agglomerative clustering"
   ]
  },
  {
   "cell_type": "code",
   "execution_count": 19,
   "metadata": {},
   "outputs": [
    {
     "name": "stdout",
     "output_type": "stream",
     "text": [
      "Size of the sample before clustering -> 9\n",
      "Sample Node 1 added in cluster -> [6]\n",
      "Sample Node 1 added in cluster -> [7]\n",
      "cluster_index(Current Sample) -> [[0], [1], [2], [3], [4], [5], [[6, [7]]], [8]]\n",
      "Cluster attained in this clustering -> [[6, [7]]]\n",
      "Size of the Sample after Clustering -> 8\n",
      "\n",
      "\n",
      "Size of the sample before clustering -> 8\n",
      "Sample Node 1 added in cluster -> [0]\n",
      "Sample Node 1 added in cluster -> [[6, [7]]]\n",
      "cluster_index(Current Sample) -> [[[0, [[6, [7]]]]], [1], [2], [3], [4], [5], [8]]\n",
      "Cluster attained in this clustering -> [[0, [[6, [7]]]]]\n",
      "Size of the Sample after Clustering -> 7\n",
      "\n",
      "\n",
      "Size of the sample before clustering -> 7\n",
      "Sample Node 1 added in cluster -> [2]\n",
      "Sample Node 1 added in cluster -> [3]\n",
      "cluster_index(Current Sample) -> [[[0, [[6, [7]]]]], [1], [[2, [3]]], [4], [5], [8]]\n",
      "Cluster attained in this clustering -> [[2, [3]]]\n",
      "Size of the Sample after Clustering -> 6\n",
      "\n",
      "\n",
      "Size of the sample before clustering -> 6\n",
      "Sample Node 1 added in cluster -> [[0, [[6, [7]]]]]\n",
      "Sample Node 1 added in cluster -> [5]\n",
      "cluster_index(Current Sample) -> [[[[0, [[6, [7]]]], [5]]], [1], [[2, [3]]], [4], [8]]\n",
      "Cluster attained in this clustering -> [[[0, [[6, [7]]]], [5]]]\n",
      "Size of the Sample after Clustering -> 5\n",
      "\n",
      "\n",
      "Size of the sample before clustering -> 5\n",
      "Sample Node 1 added in cluster -> [[[0, [[6, [7]]]], [5]]]\n",
      "Sample Node 1 added in cluster -> [[2, [3]]]\n",
      "cluster_index(Current Sample) -> [[[[[0, [[6, [7]]]], [5]], [[2, [3]]]]], [1], [4], [8]]\n",
      "Cluster attained in this clustering -> [[[[0, [[6, [7]]]], [5]], [[2, [3]]]]]\n",
      "Size of the Sample after Clustering -> 4\n",
      "\n",
      "\n",
      "Size of the sample before clustering -> 4\n",
      "Sample Node 1 added in cluster -> [[[[0, [[6, [7]]]], [5]], [[2, [3]]]]]\n",
      "Sample Node 1 added in cluster -> [8]\n",
      "cluster_index(Current Sample) -> [[[[[[0, [[6, [7]]]], [5]], [[2, [3]]]], [8]]], [1], [4]]\n",
      "Cluster attained in this clustering -> [[[[[0, [[6, [7]]]], [5]], [[2, [3]]]], [8]]]\n",
      "Size of the Sample after Clustering -> 3\n",
      "\n",
      "\n",
      "Size of the sample before clustering -> 3\n",
      "Sample Node 1 added in cluster -> [[[[[0, [[6, [7]]]], [5]], [[2, [3]]]], [8]]]\n",
      "Sample Node 1 added in cluster -> [4]\n",
      "cluster_index(Current Sample) -> [[[[[[[0, [[6, [7]]]], [5]], [[2, [3]]]], [8]], [4]]], [1]]\n",
      "Cluster attained in this clustering -> [[[[[[0, [[6, [7]]]], [5]], [[2, [3]]]], [8]], [4]]]\n",
      "Size of the Sample after Clustering -> 2\n",
      "\n",
      "\n",
      "No. of clusters to classify the samples -> 2\n",
      "[[[[[[[0, [[6, [7]]]], [5]], [[2, [3]]]], [8]], [4]]], [1]]\n"
     ]
    }
   ],
   "source": [
    "# current_cluster_index will store different cluster at present\n",
    "cluster_index = [[i] for i in range(X.shape[0])]\n",
    "initial = [[i] for i in range(X.shape[0])]\n",
    "# samples will store the data curentlt present\n",
    "samples = [[list(X[i])] for i in range(X.shape[0])]\n",
    "m = len(samples)\n",
    "# distance_matrix will contain the Distance Matrix of the current samples\n",
    "distance_matrix  = Distance_Matrix()\n",
    "\n",
    "if k == len(cluster_index):\n",
    "    final_clusters = initial\n",
    "\n",
    "while m>1:\n",
    "    print('Size of the sample before clustering ->',m)\n",
    "    Dist_matrix = distance_matrix.compute_distance_matrix(samples)\n",
    "    # index_list_curr contains index list of sample having minimum distance\n",
    "    index_list_curr = np.where(Dist_matrix==Dist_matrix.min())[0]\n",
    "    # value_to_add is the sample value added to other value to make a cluster\n",
    "    value_to_add = samples.pop(index_list_curr[1])\n",
    "    samples[index_list_curr[0]].append(value_to_add)\n",
    "    \n",
    "    print('Sample Node 1 added in cluster ->',cluster_index[index_list_curr[0]])\n",
    "    print('Sample Node 1 added in cluster ->',cluster_index[index_list_curr[1]])\n",
    "    \n",
    "    cluster_index[index_list_curr[0]].append(cluster_index[index_list_curr[1]])\n",
    "    cluster_index[index_list_curr[0]] = [cluster_index[index_list_curr[0]]]\n",
    "    v = cluster_index.pop(index_list_curr[1])\n",
    "    m = len(samples)\n",
    "        \n",
    "    print('cluster_index(Current Sample) ->',cluster_index)\n",
    "    print('Cluster attained in this clustering ->',cluster_index[index_list_curr[0]])\n",
    "    print('Size of the Sample after Clustering ->',m)\n",
    "    print('\\n')\n",
    "    if m == k:\n",
    "        final_clusters = cluster_index\n",
    "        break\n",
    "\n",
    "\n",
    "print('No. of clusters to classify the samples ->',k)\n",
    "print(final_clusters)"
   ]
  },
  {
   "cell_type": "code",
   "execution_count": 20,
   "metadata": {},
   "outputs": [
    {
     "data": {
      "image/png": "[encoded data removed]",
      "text/plain": [
       "<Figure size 1800x720 with 1 Axes>"
      ]
     },
     "metadata": {
      "needs_background": "light"
     },
     "output_type": "display_data"
    }
   ],
   "source": [
    "from scipy.cluster.hierarchy import dendrogram, linkage\n",
    "from matplotlib import pyplot as plt\n",
    "Z = linkage(X, 'single')\n",
    "fig = plt.figure(figsize=(25, 10))\n",
    "dn = dendrogram(Z)"
   ]
  },
  {
   "cell_type": "code",
   "execution_count": null,
   "metadata": {},
   "outputs": [],
   "source": []
  }
 ],
 "metadata": {
  "kernelspec": {
   "display_name": "Python 3",
   "language": "python",
   "name": "python3"
  },
  "language_info": {
   "codemirror_mode": {
    "name": "ipython",
    "version": 3
   },
   "file_extension": ".py",
   "mimetype": "text/x-python",
   "name": "python",
   "nbconvert_exporter": "python",
   "pygments_lexer": "ipython3",
   "version": "3.7.4"
  }
 },
 "nbformat": 4,
 "nbformat_minor": 2
}
